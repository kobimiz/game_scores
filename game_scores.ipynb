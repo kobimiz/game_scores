{
 "cells": [
  {
   "cell_type": "code",
   "execution_count": 1,
   "metadata": {},
   "outputs": [],
   "source": [
    "import pandas as pd"
   ]
  },
  {
   "cell_type": "code",
   "execution_count": 51,
   "metadata": {},
   "outputs": [],
   "source": [
    "SHEET_ID = '1YWLSOULWYk_orvb1Ay5lsPAB6xCd6NN39PSBnyftGJs'\n",
    "SHEET_NAME = 'game_scores'\n",
    "url = f'https://docs.google.com/spreadsheets/d/{SHEET_ID}/gviz/tq?tqx=out:csv&sheet={SHEET_NAME}'\n",
    "\n",
    "df = pd.read_csv(url)"
   ]
  },
  {
   "cell_type": "code",
   "execution_count": 52,
   "metadata": {},
   "outputs": [],
   "source": [
    "df : pd.DataFrame = df[['game', 'winner', 'date', 'participants', 'starting_order', 'winning_order']]\n",
    "\n",
    "df['winner'] = df['winner'].apply(lambda names: tuple(names.split(',')))\n",
    "df['participants'] = df['participants'].apply(lambda names: tuple(names.split(',')))\n",
    "df['starting_order'] = df['starting_order'].apply(lambda names: tuple(names.split(',')) if type(names) == str else names)\n",
    "df['winning_order'] = df['winning_order'].apply(lambda names: tuple(names.split(',')) if type(names) == str else names)"
   ]
  },
  {
   "cell_type": "markdown",
   "metadata": {},
   "source": [
    "Game count"
   ]
  },
  {
   "cell_type": "code",
   "execution_count": 202,
   "metadata": {},
   "outputs": [
    {
     "data": {
      "text/plain": [
       "game\n",
       "catan         13\n",
       "chess          8\n",
       "codenames      4\n",
       "dm             4\n",
       "mega slay      5\n",
       "monopoly       2\n",
       "nidavellir     2\n",
       "poker          1\n",
       "slay           1\n",
       "Name: game, dtype: int64"
      ]
     },
     "execution_count": 202,
     "metadata": {},
     "output_type": "execute_result"
    }
   ],
   "source": [
    "df.groupby('game')['game'].count()"
   ]
  },
  {
   "cell_type": "markdown",
   "metadata": {},
   "source": [
    "Win rates"
   ]
  },
  {
   "cell_type": "code",
   "execution_count": 290,
   "metadata": {},
   "outputs": [
    {
     "data": {
      "text/html": [
       "<div>\n",
       "<style scoped>\n",
       "    .dataframe tbody tr th:only-of-type {\n",
       "        vertical-align: middle;\n",
       "    }\n",
       "\n",
       "    .dataframe tbody tr th {\n",
       "        vertical-align: top;\n",
       "    }\n",
       "\n",
       "    .dataframe thead th {\n",
       "        text-align: right;\n",
       "    }\n",
       "</style>\n",
       "<table border=\"1\" class=\"dataframe\">\n",
       "  <thead>\n",
       "    <tr style=\"text-align: right;\">\n",
       "      <th></th>\n",
       "      <th></th>\n",
       "      <th>count</th>\n",
       "      <th>%</th>\n",
       "    </tr>\n",
       "    <tr>\n",
       "      <th>game</th>\n",
       "      <th>winner</th>\n",
       "      <th></th>\n",
       "      <th></th>\n",
       "    </tr>\n",
       "  </thead>\n",
       "  <tbody>\n",
       "    <tr>\n",
       "      <th rowspan=\"5\" valign=\"top\">catan</th>\n",
       "      <th>(osadon,)</th>\n",
       "      <td>5</td>\n",
       "      <td>0.384615</td>\n",
       "    </tr>\n",
       "    <tr>\n",
       "      <th>(basirat,)</th>\n",
       "      <td>4</td>\n",
       "      <td>0.307692</td>\n",
       "    </tr>\n",
       "    <tr>\n",
       "      <th>(kobi,)</th>\n",
       "      <td>2</td>\n",
       "      <td>0.153846</td>\n",
       "    </tr>\n",
       "    <tr>\n",
       "      <th>(alfi,)</th>\n",
       "      <td>1</td>\n",
       "      <td>0.076923</td>\n",
       "    </tr>\n",
       "    <tr>\n",
       "      <th>(menachem,)</th>\n",
       "      <td>1</td>\n",
       "      <td>0.076923</td>\n",
       "    </tr>\n",
       "    <tr>\n",
       "      <th rowspan=\"4\" valign=\"top\">chess</th>\n",
       "      <th>(kobi,)</th>\n",
       "      <td>3</td>\n",
       "      <td>0.375000</td>\n",
       "    </tr>\n",
       "    <tr>\n",
       "      <th>(ofir,)</th>\n",
       "      <td>2</td>\n",
       "      <td>0.250000</td>\n",
       "    </tr>\n",
       "    <tr>\n",
       "      <th>(shayer,)</th>\n",
       "      <td>2</td>\n",
       "      <td>0.250000</td>\n",
       "    </tr>\n",
       "    <tr>\n",
       "      <th>(osadon,)</th>\n",
       "      <td>1</td>\n",
       "      <td>0.125000</td>\n",
       "    </tr>\n",
       "    <tr>\n",
       "      <th rowspan=\"2\" valign=\"top\">codenames</th>\n",
       "      <th>(kobi, osadon)</th>\n",
       "      <td>3</td>\n",
       "      <td>0.750000</td>\n",
       "    </tr>\n",
       "    <tr>\n",
       "      <th>(osadon, shayer)</th>\n",
       "      <td>1</td>\n",
       "      <td>0.250000</td>\n",
       "    </tr>\n",
       "    <tr>\n",
       "      <th rowspan=\"2\" valign=\"top\">dm</th>\n",
       "      <th>(kobi,)</th>\n",
       "      <td>3</td>\n",
       "      <td>0.750000</td>\n",
       "    </tr>\n",
       "    <tr>\n",
       "      <th>(basirat,)</th>\n",
       "      <td>1</td>\n",
       "      <td>0.250000</td>\n",
       "    </tr>\n",
       "    <tr>\n",
       "      <th rowspan=\"2\" valign=\"top\">mega slay</th>\n",
       "      <th>(basirat,)</th>\n",
       "      <td>3</td>\n",
       "      <td>0.600000</td>\n",
       "    </tr>\n",
       "    <tr>\n",
       "      <th>(kobi,)</th>\n",
       "      <td>2</td>\n",
       "      <td>0.400000</td>\n",
       "    </tr>\n",
       "    <tr>\n",
       "      <th rowspan=\"2\" valign=\"top\">monopoly</th>\n",
       "      <th>(osadon,)</th>\n",
       "      <td>1</td>\n",
       "      <td>0.500000</td>\n",
       "    </tr>\n",
       "    <tr>\n",
       "      <th>(shayer,)</th>\n",
       "      <td>1</td>\n",
       "      <td>0.500000</td>\n",
       "    </tr>\n",
       "    <tr>\n",
       "      <th>nidavellir</th>\n",
       "      <th>(kobi,)</th>\n",
       "      <td>2</td>\n",
       "      <td>1.000000</td>\n",
       "    </tr>\n",
       "    <tr>\n",
       "      <th>poker</th>\n",
       "      <th>(kobi,)</th>\n",
       "      <td>1</td>\n",
       "      <td>1.000000</td>\n",
       "    </tr>\n",
       "    <tr>\n",
       "      <th>slay</th>\n",
       "      <th>(menachem,)</th>\n",
       "      <td>1</td>\n",
       "      <td>1.000000</td>\n",
       "    </tr>\n",
       "  </tbody>\n",
       "</table>\n",
       "</div>"
      ],
      "text/plain": [
       "                             count         %\n",
       "game       winner                           \n",
       "catan      (osadon,)             5  0.384615\n",
       "           (basirat,)            4  0.307692\n",
       "           (kobi,)               2  0.153846\n",
       "           (alfi,)               1  0.076923\n",
       "           (menachem,)           1  0.076923\n",
       "chess      (kobi,)               3  0.375000\n",
       "           (ofir,)               2  0.250000\n",
       "           (shayer,)             2  0.250000\n",
       "           (osadon,)             1  0.125000\n",
       "codenames  (kobi, osadon)        3  0.750000\n",
       "           (osadon, shayer)      1  0.250000\n",
       "dm         (kobi,)               3  0.750000\n",
       "           (basirat,)            1  0.250000\n",
       "mega slay  (basirat,)            3  0.600000\n",
       "           (kobi,)               2  0.400000\n",
       "monopoly   (osadon,)             1  0.500000\n",
       "           (shayer,)             1  0.500000\n",
       "nidavellir (kobi,)               2  1.000000\n",
       "poker      (kobi,)               1  1.000000\n",
       "slay       (menachem,)           1  1.000000"
      ]
     },
     "execution_count": 290,
     "metadata": {},
     "output_type": "execute_result"
    }
   ],
   "source": [
    "win_count_by_game = df.groupby(['game'])['winner']\n",
    "win_count = win_count_by_game.value_counts()\n",
    "win_rate  = win_count_by_game.value_counts(normalize=True,)\n",
    "\n",
    "pd.concat([win_count, win_rate], axis=1, keys=['count', '%'])"
   ]
  }
 ],
 "metadata": {
  "kernelspec": {
   "display_name": "Python 3 (ipykernel)",
   "language": "python",
   "name": "python3"
  },
  "language_info": {
   "codemirror_mode": {
    "name": "ipython",
    "version": 3
   },
   "file_extension": ".py",
   "mimetype": "text/x-python",
   "name": "python",
   "nbconvert_exporter": "python",
   "pygments_lexer": "ipython3",
   "version": "3.10.9"
  },
  "vscode": {
   "interpreter": {
    "hash": "b93463bb0449d8f0cfd386da4436fd47aea5d94fed35c9c76fa4820afce71bca"
   }
  }
 },
 "nbformat": 4,
 "nbformat_minor": 2
}
